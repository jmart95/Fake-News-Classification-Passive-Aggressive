{
 "cells": [
  {
   "cell_type": "markdown",
   "id": "d170a991",
   "metadata": {
    "execution": {
     "iopub.execute_input": "2022-01-30T01:24:45.526955Z",
     "iopub.status.busy": "2022-01-30T01:24:45.526689Z",
     "iopub.status.idle": "2022-01-30T01:24:45.532773Z",
     "shell.execute_reply": "2022-01-30T01:24:45.53165Z",
     "shell.execute_reply.started": "2022-01-30T01:24:45.526921Z"
    },
    "papermill": {
     "duration": 0.047647,
     "end_time": "2022-02-16T16:41:52.056484",
     "exception": false,
     "start_time": "2022-02-16T16:41:52.008837",
     "status": "completed"
    },
    "tags": []
   },
   "source": [
    "**IMPORTING LIBRARIES**"
   ]
  },
  {
   "cell_type": "code",
   "execution_count": 13,
   "id": "63cd5d89",
   "metadata": {
    "execution": {
     "iopub.execute_input": "2022-02-16T16:41:52.158411Z",
     "iopub.status.busy": "2022-02-16T16:41:52.157788Z",
     "iopub.status.idle": "2022-02-16T16:41:53.857628Z",
     "shell.execute_reply": "2022-02-16T16:41:53.858209Z",
     "shell.execute_reply.started": "2022-02-16T16:37:34.704161Z"
    },
    "papermill": {
     "duration": 1.754249,
     "end_time": "2022-02-16T16:41:53.858408",
     "exception": false,
     "start_time": "2022-02-16T16:41:52.104159",
     "status": "completed"
    },
    "tags": []
   },
   "outputs": [],
   "source": [
    "import numpy as np\n",
    "import pandas as pd\n",
    "import re\n",
    "import nltk\n",
    "from nltk.corpus import stopwords\n",
    "from nltk.stem.porter import PorterStemmer\n",
    "from sklearn.feature_extraction.text import TfidfVectorizer\n",
    "from sklearn.model_selection import train_test_split\n",
    "from sklearn.linear_model import LogisticRegression\n",
    "from sklearn.metrics import accuracy_score\n",
    "from nltk.stem.porter import PorterStemmer\n",
    "from sklearn.metrics import confusion_matrix\n",
    "from sklearn.metrics import classification_report\n",
    "from zipfile import ZipFile"
   ]
  },
  {
   "cell_type": "code",
   "execution_count": 14,
   "id": "cd35afeb",
   "metadata": {
    "execution": {
     "iopub.execute_input": "2022-02-16T16:41:53.962335Z",
     "iopub.status.busy": "2022-02-16T16:41:53.961332Z",
     "iopub.status.idle": "2022-02-16T16:41:54.102673Z",
     "shell.execute_reply": "2022-02-16T16:41:54.103171Z",
     "shell.execute_reply.started": "2022-02-16T16:37:36.515857Z"
    },
    "papermill": {
     "duration": 0.195994,
     "end_time": "2022-02-16T16:41:54.103391",
     "exception": false,
     "start_time": "2022-02-16T16:41:53.907397",
     "status": "completed"
    },
    "tags": []
   },
   "outputs": [
    {
     "name": "stderr",
     "output_type": "stream",
     "text": [
      "[nltk_data] Downloading package stopwords to\n",
      "[nltk_data]     C:\\Users\\jam\\AppData\\Roaming\\nltk_data...\n",
      "[nltk_data]   Package stopwords is already up-to-date!\n"
     ]
    },
    {
     "data": {
      "text/plain": [
       "True"
      ]
     },
     "execution_count": 14,
     "metadata": {},
     "output_type": "execute_result"
    }
   ],
   "source": [
    "nltk.download('stopwords')"
   ]
  },
  {
   "cell_type": "code",
   "execution_count": 15,
   "id": "6a36d842",
   "metadata": {
    "_kg_hide-output": true,
    "execution": {
     "iopub.execute_input": "2022-02-16T16:41:54.207659Z",
     "iopub.status.busy": "2022-02-16T16:41:54.206831Z",
     "iopub.status.idle": "2022-02-16T16:41:54.212578Z",
     "shell.execute_reply": "2022-02-16T16:41:54.213045Z",
     "shell.execute_reply.started": "2022-02-16T16:37:36.658065Z"
    },
    "papermill": {
     "duration": 0.061291,
     "end_time": "2022-02-16T16:41:54.213239",
     "exception": false,
     "start_time": "2022-02-16T16:41:54.151948",
     "status": "completed"
    },
    "tags": []
   },
   "outputs": [
    {
     "name": "stdout",
     "output_type": "stream",
     "text": [
      "['i', 'me', 'my', 'myself', 'we', 'our', 'ours', 'ourselves', 'you', \"you're\", \"you've\", \"you'll\", \"you'd\", 'your', 'yours', 'yourself', 'yourselves', 'he', 'him', 'his', 'himself', 'she', \"she's\", 'her', 'hers', 'herself', 'it', \"it's\", 'its', 'itself', 'they', 'them', 'their', 'theirs', 'themselves', 'what', 'which', 'who', 'whom', 'this', 'that', \"that'll\", 'these', 'those', 'am', 'is', 'are', 'was', 'were', 'be', 'been', 'being', 'have', 'has', 'had', 'having', 'do', 'does', 'did', 'doing', 'a', 'an', 'the', 'and', 'but', 'if', 'or', 'because', 'as', 'until', 'while', 'of', 'at', 'by', 'for', 'with', 'about', 'against', 'between', 'into', 'through', 'during', 'before', 'after', 'above', 'below', 'to', 'from', 'up', 'down', 'in', 'out', 'on', 'off', 'over', 'under', 'again', 'further', 'then', 'once', 'here', 'there', 'when', 'where', 'why', 'how', 'all', 'any', 'both', 'each', 'few', 'more', 'most', 'other', 'some', 'such', 'no', 'nor', 'not', 'only', 'own', 'same', 'so', 'than', 'too', 'very', 's', 't', 'can', 'will', 'just', 'don', \"don't\", 'should', \"should've\", 'now', 'd', 'll', 'm', 'o', 're', 've', 'y', 'ain', 'aren', \"aren't\", 'couldn', \"couldn't\", 'didn', \"didn't\", 'doesn', \"doesn't\", 'hadn', \"hadn't\", 'hasn', \"hasn't\", 'haven', \"haven't\", 'isn', \"isn't\", 'ma', 'mightn', \"mightn't\", 'mustn', \"mustn't\", 'needn', \"needn't\", 'shan', \"shan't\", 'shouldn', \"shouldn't\", 'wasn', \"wasn't\", 'weren', \"weren't\", 'won', \"won't\", 'wouldn', \"wouldn't\"]\n"
     ]
    }
   ],
   "source": [
    "# printing the stopwords in English\n",
    "print(stopwords.words('english'))"
   ]
  },
  {
   "cell_type": "markdown",
   "id": "36fce73a",
   "metadata": {
    "papermill": {
     "duration": 0.048953,
     "end_time": "2022-02-16T16:41:54.312015",
     "exception": false,
     "start_time": "2022-02-16T16:41:54.263062",
     "status": "completed"
    },
    "tags": []
   },
   "source": [
    "**PRE PROCESSING OF DATA**"
   ]
  },
  {
   "cell_type": "code",
   "execution_count": 16,
   "id": "29323b61",
   "metadata": {},
   "outputs": [],
   "source": [
    "for zip in ['test.csv.zip','train.csv.zip']:\n",
    "    with ZipFile(zip, 'r') as zipObj:\n",
    "    # Extract all the contents of zip file in current directory\n",
    "        zipObj.extractall()"
   ]
  },
  {
   "cell_type": "code",
   "execution_count": 17,
   "id": "0b2ca5e8",
   "metadata": {
    "execution": {
     "iopub.execute_input": "2022-02-16T16:41:54.415820Z",
     "iopub.status.busy": "2022-02-16T16:41:54.414948Z",
     "iopub.status.idle": "2022-02-16T16:41:57.213481Z",
     "shell.execute_reply": "2022-02-16T16:41:57.214008Z",
     "shell.execute_reply.started": "2022-02-16T16:37:36.667443Z"
    },
    "papermill": {
     "duration": 2.852975,
     "end_time": "2022-02-16T16:41:57.214200",
     "exception": false,
     "start_time": "2022-02-16T16:41:54.361225",
     "status": "completed"
    },
    "tags": []
   },
   "outputs": [
    {
     "data": {
      "text/html": [
       "<div>\n",
       "<style scoped>\n",
       "    .dataframe tbody tr th:only-of-type {\n",
       "        vertical-align: middle;\n",
       "    }\n",
       "\n",
       "    .dataframe tbody tr th {\n",
       "        vertical-align: top;\n",
       "    }\n",
       "\n",
       "    .dataframe thead th {\n",
       "        text-align: right;\n",
       "    }\n",
       "</style>\n",
       "<table border=\"1\" class=\"dataframe\">\n",
       "  <thead>\n",
       "    <tr style=\"text-align: right;\">\n",
       "      <th></th>\n",
       "      <th>id</th>\n",
       "      <th>title</th>\n",
       "      <th>author</th>\n",
       "      <th>text</th>\n",
       "      <th>label</th>\n",
       "    </tr>\n",
       "  </thead>\n",
       "  <tbody>\n",
       "    <tr>\n",
       "      <th>0</th>\n",
       "      <td>0</td>\n",
       "      <td>House Dem Aide: We Didn’t Even See Comey’s Let...</td>\n",
       "      <td>Darrell Lucus</td>\n",
       "      <td>House Dem Aide: We Didn’t Even See Comey’s Let...</td>\n",
       "      <td>1</td>\n",
       "    </tr>\n",
       "    <tr>\n",
       "      <th>1</th>\n",
       "      <td>1</td>\n",
       "      <td>FLYNN: Hillary Clinton, Big Woman on Campus - ...</td>\n",
       "      <td>Daniel J. Flynn</td>\n",
       "      <td>Ever get the feeling your life circles the rou...</td>\n",
       "      <td>0</td>\n",
       "    </tr>\n",
       "    <tr>\n",
       "      <th>2</th>\n",
       "      <td>2</td>\n",
       "      <td>Why the Truth Might Get You Fired</td>\n",
       "      <td>Consortiumnews.com</td>\n",
       "      <td>Why the Truth Might Get You Fired October 29, ...</td>\n",
       "      <td>1</td>\n",
       "    </tr>\n",
       "    <tr>\n",
       "      <th>3</th>\n",
       "      <td>3</td>\n",
       "      <td>15 Civilians Killed In Single US Airstrike Hav...</td>\n",
       "      <td>Jessica Purkiss</td>\n",
       "      <td>Videos 15 Civilians Killed In Single US Airstr...</td>\n",
       "      <td>1</td>\n",
       "    </tr>\n",
       "    <tr>\n",
       "      <th>4</th>\n",
       "      <td>4</td>\n",
       "      <td>Iranian woman jailed for fictional unpublished...</td>\n",
       "      <td>Howard Portnoy</td>\n",
       "      <td>Print \\nAn Iranian woman has been sentenced to...</td>\n",
       "      <td>1</td>\n",
       "    </tr>\n",
       "  </tbody>\n",
       "</table>\n",
       "</div>"
      ],
      "text/plain": [
       "   id                                              title              author  \\\n",
       "0   0  House Dem Aide: We Didn’t Even See Comey’s Let...       Darrell Lucus   \n",
       "1   1  FLYNN: Hillary Clinton, Big Woman on Campus - ...     Daniel J. Flynn   \n",
       "2   2                  Why the Truth Might Get You Fired  Consortiumnews.com   \n",
       "3   3  15 Civilians Killed In Single US Airstrike Hav...     Jessica Purkiss   \n",
       "4   4  Iranian woman jailed for fictional unpublished...      Howard Portnoy   \n",
       "\n",
       "                                                text  label  \n",
       "0  House Dem Aide: We Didn’t Even See Comey’s Let...      1  \n",
       "1  Ever get the feeling your life circles the rou...      0  \n",
       "2  Why the Truth Might Get You Fired October 29, ...      1  \n",
       "3  Videos 15 Civilians Killed In Single US Airstr...      1  \n",
       "4  Print \\nAn Iranian woman has been sentenced to...      1  "
      ]
     },
     "execution_count": 17,
     "metadata": {},
     "output_type": "execute_result"
    }
   ],
   "source": [
    "news_data = pd.read_csv('train.csv')\n",
    "news_data.head()"
   ]
  },
  {
   "cell_type": "code",
   "execution_count": 18,
   "id": "f8b89f84",
   "metadata": {
    "execution": {
     "iopub.execute_input": "2022-02-16T16:41:57.319688Z",
     "iopub.status.busy": "2022-02-16T16:41:57.318877Z",
     "iopub.status.idle": "2022-02-16T16:41:57.321964Z",
     "shell.execute_reply": "2022-02-16T16:41:57.322497Z",
     "shell.execute_reply.started": "2022-02-16T16:37:39.378897Z"
    },
    "papermill": {
     "duration": 0.059124,
     "end_time": "2022-02-16T16:41:57.322662",
     "exception": false,
     "start_time": "2022-02-16T16:41:57.263538",
     "status": "completed"
    },
    "tags": []
   },
   "outputs": [
    {
     "data": {
      "text/plain": [
       "(20800, 5)"
      ]
     },
     "execution_count": 18,
     "metadata": {},
     "output_type": "execute_result"
    }
   ],
   "source": [
    "news_data.shape"
   ]
  },
  {
   "cell_type": "code",
   "execution_count": 19,
   "id": "0bbdce1f",
   "metadata": {
    "execution": {
     "iopub.execute_input": "2022-02-16T16:41:57.423915Z",
     "iopub.status.busy": "2022-02-16T16:41:57.423025Z",
     "iopub.status.idle": "2022-02-16T16:41:57.440652Z",
     "shell.execute_reply": "2022-02-16T16:41:57.441855Z",
     "shell.execute_reply.started": "2022-02-16T16:37:39.386785Z"
    },
    "papermill": {
     "duration": 0.070779,
     "end_time": "2022-02-16T16:41:57.442157",
     "exception": false,
     "start_time": "2022-02-16T16:41:57.371378",
     "status": "completed"
    },
    "tags": []
   },
   "outputs": [
    {
     "data": {
      "text/plain": [
       "id           0\n",
       "title      558\n",
       "author    1957\n",
       "text        39\n",
       "label        0\n",
       "dtype: int64"
      ]
     },
     "execution_count": 19,
     "metadata": {},
     "output_type": "execute_result"
    }
   ],
   "source": [
    "# counting the number of missing values in the dataset\n",
    "news_data.isnull().sum()"
   ]
  },
  {
   "cell_type": "code",
   "execution_count": 20,
   "id": "ad460504",
   "metadata": {
    "execution": {
     "iopub.execute_input": "2022-02-16T16:41:57.561433Z",
     "iopub.status.busy": "2022-02-16T16:41:57.551839Z",
     "iopub.status.idle": "2022-02-16T16:41:57.566314Z",
     "shell.execute_reply": "2022-02-16T16:41:57.565759Z",
     "shell.execute_reply.started": "2022-02-16T16:37:39.418337Z"
    },
    "papermill": {
     "duration": 0.069239,
     "end_time": "2022-02-16T16:41:57.566475",
     "exception": false,
     "start_time": "2022-02-16T16:41:57.497236",
     "status": "completed"
    },
    "tags": []
   },
   "outputs": [],
   "source": [
    "# replacing the null values with empty string\n",
    "news_data = news_data.fillna('')"
   ]
  },
  {
   "cell_type": "code",
   "execution_count": 21,
   "id": "fa205622",
   "metadata": {
    "execution": {
     "iopub.execute_input": "2022-02-16T16:41:57.669601Z",
     "iopub.status.busy": "2022-02-16T16:41:57.668985Z",
     "iopub.status.idle": "2022-02-16T16:41:57.685363Z",
     "shell.execute_reply": "2022-02-16T16:41:57.685950Z",
     "shell.execute_reply.started": "2022-02-16T16:37:39.439758Z"
    },
    "papermill": {
     "duration": 0.069786,
     "end_time": "2022-02-16T16:41:57.686139",
     "exception": false,
     "start_time": "2022-02-16T16:41:57.616353",
     "status": "completed"
    },
    "tags": []
   },
   "outputs": [
    {
     "data": {
      "text/plain": [
       "id        0\n",
       "title     0\n",
       "author    0\n",
       "text      0\n",
       "label     0\n",
       "dtype: int64"
      ]
     },
     "execution_count": 21,
     "metadata": {},
     "output_type": "execute_result"
    }
   ],
   "source": [
    "# checking the number of missing values in the dataset\n",
    "news_data.isnull().sum()"
   ]
  },
  {
   "cell_type": "code",
   "execution_count": 22,
   "id": "914c9d15",
   "metadata": {
    "execution": {
     "iopub.execute_input": "2022-02-16T16:41:57.795179Z",
     "iopub.status.busy": "2022-02-16T16:41:57.794543Z",
     "iopub.status.idle": "2022-02-16T16:41:57.806608Z",
     "shell.execute_reply": "2022-02-16T16:41:57.807098Z",
     "shell.execute_reply.started": "2022-02-16T16:37:39.471672Z"
    },
    "papermill": {
     "duration": 0.070252,
     "end_time": "2022-02-16T16:41:57.807288",
     "exception": false,
     "start_time": "2022-02-16T16:41:57.737036",
     "status": "completed"
    },
    "tags": []
   },
   "outputs": [],
   "source": [
    "# merging the author name and news title\n",
    "news_data['content'] = news_data['author']+' '+news_data['title']"
   ]
  },
  {
   "cell_type": "code",
   "execution_count": 23,
   "id": "df5afe1f",
   "metadata": {
    "execution": {
     "iopub.execute_input": "2022-02-16T16:41:57.915904Z",
     "iopub.status.busy": "2022-02-16T16:41:57.914201Z",
     "iopub.status.idle": "2022-02-16T16:41:57.919811Z",
     "shell.execute_reply": "2022-02-16T16:41:57.919032Z",
     "shell.execute_reply.started": "2022-02-16T16:37:39.493872Z"
    },
    "papermill": {
     "duration": 0.062639,
     "end_time": "2022-02-16T16:41:57.920012",
     "exception": false,
     "start_time": "2022-02-16T16:41:57.857373",
     "status": "completed"
    },
    "tags": []
   },
   "outputs": [
    {
     "name": "stdout",
     "output_type": "stream",
     "text": [
      "0        Darrell Lucus House Dem Aide: We Didn’t Even S...\n",
      "1        Daniel J. Flynn FLYNN: Hillary Clinton, Big Wo...\n",
      "2        Consortiumnews.com Why the Truth Might Get You...\n",
      "3        Jessica Purkiss 15 Civilians Killed In Single ...\n",
      "4        Howard Portnoy Iranian woman jailed for fictio...\n",
      "                               ...                        \n",
      "20795    Jerome Hudson Rapper T.I.: Trump a ’Poster Chi...\n",
      "20796    Benjamin Hoffman N.F.L. Playoffs: Schedule, Ma...\n",
      "20797    Michael J. de la Merced and Rachel Abrams Macy...\n",
      "20798    Alex Ansary NATO, Russia To Hold Parallel Exer...\n",
      "20799              David Swanson What Keeps the F-35 Alive\n",
      "Name: content, Length: 20800, dtype: object\n"
     ]
    }
   ],
   "source": [
    "print(news_data['content'])"
   ]
  },
  {
   "cell_type": "code",
   "execution_count": 24,
   "id": "7618bddf",
   "metadata": {
    "execution": {
     "iopub.execute_input": "2022-02-16T16:41:58.030797Z",
     "iopub.status.busy": "2022-02-16T16:41:58.030125Z",
     "iopub.status.idle": "2022-02-16T16:41:58.043059Z",
     "shell.execute_reply": "2022-02-16T16:41:58.043655Z",
     "shell.execute_reply.started": "2022-02-16T16:37:39.512259Z"
    },
    "papermill": {
     "duration": 0.071773,
     "end_time": "2022-02-16T16:41:58.043865",
     "exception": false,
     "start_time": "2022-02-16T16:41:57.972092",
     "status": "completed"
    },
    "tags": []
   },
   "outputs": [],
   "source": [
    "# separating the data & label\n",
    "\n",
    "## Get the Independent Features\n",
    "X = news_data.drop(columns='label', axis=1)\n",
    "## Get the Dependent features\n",
    "Y = news_data['label']"
   ]
  },
  {
   "cell_type": "code",
   "execution_count": 25,
   "id": "c1ffe0d7",
   "metadata": {
    "execution": {
     "iopub.execute_input": "2022-02-16T16:41:58.150128Z",
     "iopub.status.busy": "2022-02-16T16:41:58.149239Z",
     "iopub.status.idle": "2022-02-16T16:41:58.158397Z",
     "shell.execute_reply": "2022-02-16T16:41:58.158973Z",
     "shell.execute_reply.started": "2022-02-16T16:37:39.536044Z"
    },
    "papermill": {
     "duration": 0.06317,
     "end_time": "2022-02-16T16:41:58.159149",
     "exception": false,
     "start_time": "2022-02-16T16:41:58.095979",
     "status": "completed"
    },
    "tags": []
   },
   "outputs": [
    {
     "data": {
      "text/plain": [
       "1    10413\n",
       "0    10387\n",
       "Name: label, dtype: int64"
      ]
     },
     "execution_count": 25,
     "metadata": {},
     "output_type": "execute_result"
    }
   ],
   "source": [
    "Y.value_counts()"
   ]
  },
  {
   "cell_type": "code",
   "execution_count": 26,
   "id": "967841a9",
   "metadata": {
    "execution": {
     "iopub.execute_input": "2022-02-16T16:41:58.265951Z",
     "iopub.status.busy": "2022-02-16T16:41:58.265047Z",
     "iopub.status.idle": "2022-02-16T16:41:58.269972Z",
     "shell.execute_reply": "2022-02-16T16:41:58.270481Z",
     "shell.execute_reply.started": "2022-02-16T16:37:39.546501Z"
    },
    "papermill": {
     "duration": 0.059919,
     "end_time": "2022-02-16T16:41:58.270655",
     "exception": false,
     "start_time": "2022-02-16T16:41:58.210736",
     "status": "completed"
    },
    "tags": []
   },
   "outputs": [
    {
     "data": {
      "text/plain": [
       "(20800, 5)"
      ]
     },
     "execution_count": 26,
     "metadata": {},
     "output_type": "execute_result"
    }
   ],
   "source": [
    "X.shape"
   ]
  },
  {
   "cell_type": "code",
   "execution_count": 27,
   "id": "489e4626",
   "metadata": {
    "execution": {
     "iopub.execute_input": "2022-02-16T16:41:58.378157Z",
     "iopub.status.busy": "2022-02-16T16:41:58.377510Z",
     "iopub.status.idle": "2022-02-16T16:41:58.381975Z",
     "shell.execute_reply": "2022-02-16T16:41:58.382477Z",
     "shell.execute_reply.started": "2022-02-16T16:37:39.559060Z"
    },
    "papermill": {
     "duration": 0.060485,
     "end_time": "2022-02-16T16:41:58.382647",
     "exception": false,
     "start_time": "2022-02-16T16:41:58.322162",
     "status": "completed"
    },
    "tags": []
   },
   "outputs": [
    {
     "data": {
      "text/plain": [
       "(20800,)"
      ]
     },
     "execution_count": 27,
     "metadata": {},
     "output_type": "execute_result"
    }
   ],
   "source": [
    "Y.shape"
   ]
  },
  {
   "cell_type": "code",
   "execution_count": 28,
   "id": "112394ab",
   "metadata": {
    "_kg_hide-output": true,
    "execution": {
     "iopub.execute_input": "2022-02-16T16:41:58.504971Z",
     "iopub.status.busy": "2022-02-16T16:41:58.497892Z",
     "iopub.status.idle": "2022-02-16T16:41:58.507928Z",
     "shell.execute_reply": "2022-02-16T16:41:58.508589Z",
     "shell.execute_reply.started": "2022-02-16T16:37:39.572613Z"
    },
    "papermill": {
     "duration": 0.074882,
     "end_time": "2022-02-16T16:41:58.508773",
     "exception": false,
     "start_time": "2022-02-16T16:41:58.433891",
     "status": "completed"
    },
    "tags": []
   },
   "outputs": [
    {
     "name": "stdout",
     "output_type": "stream",
     "text": [
      "          id                                              title  \\\n",
      "0          0  House Dem Aide: We Didn’t Even See Comey’s Let...   \n",
      "1          1  FLYNN: Hillary Clinton, Big Woman on Campus - ...   \n",
      "2          2                  Why the Truth Might Get You Fired   \n",
      "3          3  15 Civilians Killed In Single US Airstrike Hav...   \n",
      "4          4  Iranian woman jailed for fictional unpublished...   \n",
      "...      ...                                                ...   \n",
      "20795  20795  Rapper T.I.: Trump a ’Poster Child For White S...   \n",
      "20796  20796  N.F.L. Playoffs: Schedule, Matchups and Odds -...   \n",
      "20797  20797  Macy’s Is Said to Receive Takeover Approach by...   \n",
      "20798  20798  NATO, Russia To Hold Parallel Exercises In Bal...   \n",
      "20799  20799                          What Keeps the F-35 Alive   \n",
      "\n",
      "                                          author  \\\n",
      "0                                  Darrell Lucus   \n",
      "1                                Daniel J. Flynn   \n",
      "2                             Consortiumnews.com   \n",
      "3                                Jessica Purkiss   \n",
      "4                                 Howard Portnoy   \n",
      "...                                          ...   \n",
      "20795                              Jerome Hudson   \n",
      "20796                           Benjamin Hoffman   \n",
      "20797  Michael J. de la Merced and Rachel Abrams   \n",
      "20798                                Alex Ansary   \n",
      "20799                              David Swanson   \n",
      "\n",
      "                                                    text  \\\n",
      "0      House Dem Aide: We Didn’t Even See Comey’s Let...   \n",
      "1      Ever get the feeling your life circles the rou...   \n",
      "2      Why the Truth Might Get You Fired October 29, ...   \n",
      "3      Videos 15 Civilians Killed In Single US Airstr...   \n",
      "4      Print \\nAn Iranian woman has been sentenced to...   \n",
      "...                                                  ...   \n",
      "20795  Rapper T. I. unloaded on black celebrities who...   \n",
      "20796  When the Green Bay Packers lost to the Washing...   \n",
      "20797  The Macy’s of today grew from the union of sev...   \n",
      "20798  NATO, Russia To Hold Parallel Exercises In Bal...   \n",
      "20799    David Swanson is an author, activist, journa...   \n",
      "\n",
      "                                                 content  \n",
      "0      Darrell Lucus House Dem Aide: We Didn’t Even S...  \n",
      "1      Daniel J. Flynn FLYNN: Hillary Clinton, Big Wo...  \n",
      "2      Consortiumnews.com Why the Truth Might Get You...  \n",
      "3      Jessica Purkiss 15 Civilians Killed In Single ...  \n",
      "4      Howard Portnoy Iranian woman jailed for fictio...  \n",
      "...                                                  ...  \n",
      "20795  Jerome Hudson Rapper T.I.: Trump a ’Poster Chi...  \n",
      "20796  Benjamin Hoffman N.F.L. Playoffs: Schedule, Ma...  \n",
      "20797  Michael J. de la Merced and Rachel Abrams Macy...  \n",
      "20798  Alex Ansary NATO, Russia To Hold Parallel Exer...  \n",
      "20799            David Swanson What Keeps the F-35 Alive  \n",
      "\n",
      "[20800 rows x 5 columns]\n",
      "0        1\n",
      "1        0\n",
      "2        1\n",
      "3        1\n",
      "4        1\n",
      "        ..\n",
      "20795    0\n",
      "20796    0\n",
      "20797    0\n",
      "20798    1\n",
      "20799    1\n",
      "Name: label, Length: 20800, dtype: int64\n"
     ]
    }
   ],
   "source": [
    "print(X)\n",
    "print(Y)"
   ]
  },
  {
   "cell_type": "markdown",
   "id": "79f8fdd8",
   "metadata": {
    "papermill": {
     "duration": 0.052747,
     "end_time": "2022-02-16T16:41:58.614401",
     "exception": false,
     "start_time": "2022-02-16T16:41:58.561654",
     "status": "completed"
    },
    "tags": []
   },
   "source": [
    "**STEMMING:**\n",
    "\n",
    "* A stemming algorithm is a process of linguistic normalisation, in which the variant forms of a word are reduced to a common form.\n",
    "* In simple words, Stemming is the process of reducing a word to its Root word.\n",
    "\n",
    "* **EXAMPLES:** \n",
    "\n",
    "  1. actor, actress, acting --> act\n",
    "  2. eating, eats, eaten --> eat"
   ]
  },
  {
   "cell_type": "code",
   "execution_count": 29,
   "id": "e98ceb5f",
   "metadata": {
    "execution": {
     "iopub.execute_input": "2022-02-16T16:41:58.722141Z",
     "iopub.status.busy": "2022-02-16T16:41:58.721167Z",
     "iopub.status.idle": "2022-02-16T16:41:58.724938Z",
     "shell.execute_reply": "2022-02-16T16:41:58.725580Z",
     "shell.execute_reply.started": "2022-02-16T16:37:39.591047Z"
    },
    "papermill": {
     "duration": 0.059658,
     "end_time": "2022-02-16T16:41:58.725760",
     "exception": false,
     "start_time": "2022-02-16T16:41:58.666102",
     "status": "completed"
    },
    "tags": []
   },
   "outputs": [],
   "source": [
    "port_stem = PorterStemmer()"
   ]
  },
  {
   "cell_type": "code",
   "execution_count": 30,
   "id": "94dc2372",
   "metadata": {
    "execution": {
     "iopub.execute_input": "2022-02-16T16:41:58.838814Z",
     "iopub.status.busy": "2022-02-16T16:41:58.838171Z",
     "iopub.status.idle": "2022-02-16T16:41:58.840766Z",
     "shell.execute_reply": "2022-02-16T16:41:58.841371Z",
     "shell.execute_reply.started": "2022-02-16T16:37:39.605265Z"
    },
    "papermill": {
     "duration": 0.063124,
     "end_time": "2022-02-16T16:41:58.841541",
     "exception": false,
     "start_time": "2022-02-16T16:41:58.778417",
     "status": "completed"
    },
    "tags": []
   },
   "outputs": [],
   "source": [
    "def stemming(content):\n",
    "    review = re.sub('[^a-zA-Z]',' ',content)\n",
    "    review = review.lower()\n",
    "    review = review.split()\n",
    "    review = [port_stem.stem(word) for word in review if not word in stopwords.words('english')]\n",
    "    review = ' '.join(review)\n",
    "    return review"
   ]
  },
  {
   "cell_type": "code",
   "execution_count": 31,
   "id": "350a63cc",
   "metadata": {
    "execution": {
     "iopub.execute_input": "2022-02-16T16:41:58.952520Z",
     "iopub.status.busy": "2022-02-16T16:41:58.948985Z",
     "iopub.status.idle": "2022-02-16T16:42:45.124754Z",
     "shell.execute_reply": "2022-02-16T16:42:45.125421Z",
     "shell.execute_reply.started": "2022-02-16T16:37:39.615490Z"
    },
    "papermill": {
     "duration": 46.230915,
     "end_time": "2022-02-16T16:42:45.125652",
     "exception": false,
     "start_time": "2022-02-16T16:41:58.894737",
     "status": "completed"
    },
    "tags": []
   },
   "outputs": [],
   "source": [
    "news_data['content'] = news_data['content'].apply(stemming)"
   ]
  },
  {
   "cell_type": "code",
   "execution_count": 32,
   "id": "b839a5bd",
   "metadata": {
    "execution": {
     "iopub.execute_input": "2022-02-16T16:42:45.265256Z",
     "iopub.status.busy": "2022-02-16T16:42:45.264377Z",
     "iopub.status.idle": "2022-02-16T16:42:45.267720Z",
     "shell.execute_reply": "2022-02-16T16:42:45.268489Z",
     "shell.execute_reply.started": "2022-02-16T16:38:25.828766Z"
    },
    "papermill": {
     "duration": 0.076832,
     "end_time": "2022-02-16T16:42:45.268709",
     "exception": false,
     "start_time": "2022-02-16T16:42:45.191877",
     "status": "completed"
    },
    "tags": []
   },
   "outputs": [
    {
     "name": "stdout",
     "output_type": "stream",
     "text": [
      "0        darrel lucu hous dem aid even see comey letter...\n",
      "1        daniel j flynn flynn hillari clinton big woman...\n",
      "2                   consortiumnew com truth might get fire\n",
      "3        jessica purkiss civilian kill singl us airstri...\n",
      "4        howard portnoy iranian woman jail fiction unpu...\n",
      "                               ...                        \n",
      "20795    jerom hudson rapper trump poster child white s...\n",
      "20796    benjamin hoffman n f l playoff schedul matchup...\n",
      "20797    michael j de la merc rachel abram maci said re...\n",
      "20798    alex ansari nato russia hold parallel exercis ...\n",
      "20799                            david swanson keep f aliv\n",
      "Name: content, Length: 20800, dtype: object\n"
     ]
    }
   ],
   "source": [
    "print(news_data['content'])"
   ]
  },
  {
   "cell_type": "code",
   "execution_count": 33,
   "id": "4a7acd6d",
   "metadata": {
    "execution": {
     "iopub.execute_input": "2022-02-16T16:42:45.413576Z",
     "iopub.status.busy": "2022-02-16T16:42:45.412555Z",
     "iopub.status.idle": "2022-02-16T16:42:45.427664Z",
     "shell.execute_reply": "2022-02-16T16:42:45.428474Z",
     "shell.execute_reply.started": "2022-02-16T16:38:25.837064Z"
    },
    "papermill": {
     "duration": 0.078202,
     "end_time": "2022-02-16T16:42:45.428758",
     "exception": false,
     "start_time": "2022-02-16T16:42:45.350556",
     "status": "completed"
    },
    "tags": []
   },
   "outputs": [],
   "source": [
    "#separating the data and label\n",
    "X = news_data['content'].values\n",
    "Y = news_data['label'].values"
   ]
  },
  {
   "cell_type": "code",
   "execution_count": 34,
   "id": "6592e60f",
   "metadata": {
    "execution": {
     "iopub.execute_input": "2022-02-16T16:42:45.581101Z",
     "iopub.status.busy": "2022-02-16T16:42:45.580170Z",
     "iopub.status.idle": "2022-02-16T16:42:45.587557Z",
     "shell.execute_reply": "2022-02-16T16:42:45.588266Z",
     "shell.execute_reply.started": "2022-02-16T16:38:25.852967Z"
    },
    "papermill": {
     "duration": 0.090387,
     "end_time": "2022-02-16T16:42:45.588570",
     "exception": false,
     "start_time": "2022-02-16T16:42:45.498183",
     "status": "completed"
    },
    "tags": []
   },
   "outputs": [
    {
     "name": "stdout",
     "output_type": "stream",
     "text": [
      "['darrel lucu hous dem aid even see comey letter jason chaffetz tweet'\n",
      " 'daniel j flynn flynn hillari clinton big woman campu breitbart'\n",
      " 'consortiumnew com truth might get fire' ...\n",
      " 'michael j de la merc rachel abram maci said receiv takeov approach hudson bay new york time'\n",
      " 'alex ansari nato russia hold parallel exercis balkan'\n",
      " 'david swanson keep f aliv']\n"
     ]
    }
   ],
   "source": [
    "print(X)"
   ]
  },
  {
   "cell_type": "code",
   "execution_count": 35,
   "id": "2998eeaf",
   "metadata": {
    "execution": {
     "iopub.execute_input": "2022-02-16T16:42:45.726341Z",
     "iopub.status.busy": "2022-02-16T16:42:45.725368Z",
     "iopub.status.idle": "2022-02-16T16:42:45.731296Z",
     "shell.execute_reply": "2022-02-16T16:42:45.731953Z",
     "shell.execute_reply.started": "2022-02-16T16:38:25.866677Z"
    },
    "papermill": {
     "duration": 0.064278,
     "end_time": "2022-02-16T16:42:45.732138",
     "exception": false,
     "start_time": "2022-02-16T16:42:45.667860",
     "status": "completed"
    },
    "tags": []
   },
   "outputs": [
    {
     "name": "stdout",
     "output_type": "stream",
     "text": [
      "[1 0 1 ... 0 1 1]\n"
     ]
    }
   ],
   "source": [
    "print(Y)"
   ]
  },
  {
   "cell_type": "code",
   "execution_count": 36,
   "id": "7f7dcf07",
   "metadata": {
    "execution": {
     "iopub.execute_input": "2022-02-16T16:42:45.849249Z",
     "iopub.status.busy": "2022-02-16T16:42:45.848287Z",
     "iopub.status.idle": "2022-02-16T16:42:45.852704Z",
     "shell.execute_reply": "2022-02-16T16:42:45.852101Z",
     "shell.execute_reply.started": "2022-02-16T16:38:25.876861Z"
    },
    "papermill": {
     "duration": 0.064704,
     "end_time": "2022-02-16T16:42:45.852856",
     "exception": false,
     "start_time": "2022-02-16T16:42:45.788152",
     "status": "completed"
    },
    "tags": []
   },
   "outputs": [
    {
     "data": {
      "text/plain": [
       "(20800,)"
      ]
     },
     "execution_count": 36,
     "metadata": {},
     "output_type": "execute_result"
    }
   ],
   "source": [
    "Y.shape"
   ]
  },
  {
   "cell_type": "markdown",
   "id": "3d747c56",
   "metadata": {
    "papermill": {
     "duration": 0.057029,
     "end_time": "2022-02-16T16:42:45.963969",
     "exception": false,
     "start_time": "2022-02-16T16:42:45.906940",
     "status": "completed"
    },
    "tags": []
   },
   "source": [
    "**TF-IDF stands for “Term Frequency – Inverse Document Frequency ”**\n",
    "\n",
    "* TF-IDF is a numerical statistic which measures the importance of the word in a document.\n",
    "\n",
    "* Term Frequency : Number of time a word appears in a text document.\n",
    "* Inverse Document Frequency : Measure the word is a rare word or common word in a document."
   ]
  },
  {
   "cell_type": "code",
   "execution_count": 37,
   "id": "74280e8d",
   "metadata": {
    "execution": {
     "iopub.execute_input": "2022-02-16T16:42:46.077440Z",
     "iopub.status.busy": "2022-02-16T16:42:46.076489Z",
     "iopub.status.idle": "2022-02-16T16:42:46.772601Z",
     "shell.execute_reply": "2022-02-16T16:42:46.773172Z",
     "shell.execute_reply.started": "2022-02-16T16:38:25.890612Z"
    },
    "papermill": {
     "duration": 0.754055,
     "end_time": "2022-02-16T16:42:46.773397",
     "exception": false,
     "start_time": "2022-02-16T16:42:46.019342",
     "status": "completed"
    },
    "tags": []
   },
   "outputs": [],
   "source": [
    "# converting the textual data to numerical data\n",
    "vectorizer = TfidfVectorizer()\n",
    "vectorizer.fit(X)\n",
    "X = vectorizer.transform(X)"
   ]
  },
  {
   "cell_type": "code",
   "execution_count": 38,
   "id": "ca216c6f",
   "metadata": {
    "_kg_hide-output": true,
    "execution": {
     "iopub.execute_input": "2022-02-16T16:42:46.886769Z",
     "iopub.status.busy": "2022-02-16T16:42:46.885999Z",
     "iopub.status.idle": "2022-02-16T16:42:46.893056Z",
     "shell.execute_reply": "2022-02-16T16:42:46.893697Z",
     "shell.execute_reply.started": "2022-02-16T16:38:26.593938Z"
    },
    "papermill": {
     "duration": 0.065199,
     "end_time": "2022-02-16T16:42:46.893883",
     "exception": false,
     "start_time": "2022-02-16T16:42:46.828684",
     "status": "completed"
    },
    "tags": []
   },
   "outputs": [
    {
     "name": "stdout",
     "output_type": "stream",
     "text": [
      "  (0, 15686)\t0.28485063562728646\n",
      "  (0, 13473)\t0.2565896679337957\n",
      "  (0, 8909)\t0.3635963806326075\n",
      "  (0, 8630)\t0.29212514087043684\n",
      "  (0, 7692)\t0.24785219520671603\n",
      "  (0, 7005)\t0.21874169089359144\n",
      "  (0, 4973)\t0.233316966909351\n",
      "  (0, 3792)\t0.2705332480845492\n",
      "  (0, 3600)\t0.3598939188262559\n",
      "  (0, 2959)\t0.2468450128533713\n",
      "  (0, 2483)\t0.3676519686797209\n",
      "  (0, 267)\t0.27010124977708766\n",
      "  (1, 16799)\t0.30071745655510157\n",
      "  (1, 6816)\t0.1904660198296849\n",
      "  (1, 5503)\t0.7143299355715573\n",
      "  (1, 3568)\t0.26373768806048464\n",
      "  (1, 2813)\t0.19094574062359204\n",
      "  (1, 2223)\t0.3827320386859759\n",
      "  (1, 1894)\t0.15521974226349364\n",
      "  (1, 1497)\t0.2939891562094648\n",
      "  (2, 15611)\t0.41544962664721613\n",
      "  (2, 9620)\t0.49351492943649944\n",
      "  (2, 5968)\t0.3474613386728292\n",
      "  (2, 5389)\t0.3866530551182615\n",
      "  (2, 3103)\t0.46097489583229645\n",
      "  :\t:\n",
      "  (20797, 13122)\t0.2482526352197606\n",
      "  (20797, 12344)\t0.27263457663336677\n",
      "  (20797, 12138)\t0.24778257724396507\n",
      "  (20797, 10306)\t0.08038079000566466\n",
      "  (20797, 9588)\t0.174553480255222\n",
      "  (20797, 9518)\t0.2954204003420313\n",
      "  (20797, 8988)\t0.36160868928090795\n",
      "  (20797, 8364)\t0.22322585870464118\n",
      "  (20797, 7042)\t0.21799048897828688\n",
      "  (20797, 3643)\t0.21155500613623743\n",
      "  (20797, 1287)\t0.33538056804139865\n",
      "  (20797, 699)\t0.30685846079762347\n",
      "  (20797, 43)\t0.29710241860700626\n",
      "  (20798, 13046)\t0.22363267488270608\n",
      "  (20798, 11052)\t0.4460515589182236\n",
      "  (20798, 10177)\t0.3192496370187028\n",
      "  (20798, 6889)\t0.32496285694299426\n",
      "  (20798, 5032)\t0.4083701450239529\n",
      "  (20798, 1125)\t0.4460515589182236\n",
      "  (20798, 588)\t0.3112141524638974\n",
      "  (20798, 350)\t0.28446937819072576\n",
      "  (20799, 14852)\t0.5677577267055112\n",
      "  (20799, 8036)\t0.45983893273780013\n",
      "  (20799, 3623)\t0.37927626273066584\n",
      "  (20799, 377)\t0.5677577267055112\n"
     ]
    }
   ],
   "source": [
    "print(X)"
   ]
  },
  {
   "cell_type": "markdown",
   "id": "027bf5e4",
   "metadata": {
    "papermill": {
     "duration": 0.054019,
     "end_time": "2022-02-16T16:42:47.003095",
     "exception": false,
     "start_time": "2022-02-16T16:42:46.949076",
     "status": "completed"
    },
    "tags": []
   },
   "source": [
    "**SPLITTING THE DATASET INTO TRAINING DATA & TEST DATA:**"
   ]
  },
  {
   "cell_type": "code",
   "execution_count": 39,
   "id": "89bbf6e6",
   "metadata": {
    "execution": {
     "iopub.execute_input": "2022-02-16T16:42:47.116971Z",
     "iopub.status.busy": "2022-02-16T16:42:47.116340Z",
     "iopub.status.idle": "2022-02-16T16:42:47.133806Z",
     "shell.execute_reply": "2022-02-16T16:42:47.134287Z",
     "shell.execute_reply.started": "2022-02-16T16:38:26.606307Z"
    },
    "papermill": {
     "duration": 0.07695,
     "end_time": "2022-02-16T16:42:47.134506",
     "exception": false,
     "start_time": "2022-02-16T16:42:47.057556",
     "status": "completed"
    },
    "tags": []
   },
   "outputs": [],
   "source": [
    "X_train, X_test, Y_train, Y_test = train_test_split(X, Y, test_size = 0.2, stratify=Y, random_state=2)"
   ]
  },
  {
   "cell_type": "markdown",
   "id": "498a14f7",
   "metadata": {
    "papermill": {
     "duration": 0.053975,
     "end_time": "2022-02-16T16:42:47.242674",
     "exception": false,
     "start_time": "2022-02-16T16:42:47.188699",
     "status": "completed"
    },
    "tags": []
   },
   "source": [
    "**LOGESTIC REGRESSION:**\n",
    "\n",
    "Logistic regression is a statistical analysis method to predict a binary outcome, such as yes or no, based on prior observations of a data set. A logistic regression model predicts a dependent data variable by analyzing the relationship between one or more existing independent variables."
   ]
  },
  {
   "cell_type": "code",
   "execution_count": 40,
   "id": "c44f9d9b",
   "metadata": {
    "execution": {
     "iopub.execute_input": "2022-02-16T16:42:47.357342Z",
     "iopub.status.busy": "2022-02-16T16:42:47.356657Z",
     "iopub.status.idle": "2022-02-16T16:42:47.359071Z",
     "shell.execute_reply": "2022-02-16T16:42:47.358571Z",
     "shell.execute_reply.started": "2022-02-16T16:38:26.633494Z"
    },
    "papermill": {
     "duration": 0.061393,
     "end_time": "2022-02-16T16:42:47.359219",
     "exception": false,
     "start_time": "2022-02-16T16:42:47.297826",
     "status": "completed"
    },
    "tags": []
   },
   "outputs": [],
   "source": [
    "model = LogisticRegression()"
   ]
  },
  {
   "cell_type": "code",
   "execution_count": 41,
   "id": "3371979b",
   "metadata": {
    "execution": {
     "iopub.execute_input": "2022-02-16T16:42:47.475172Z",
     "iopub.status.busy": "2022-02-16T16:42:47.474510Z",
     "iopub.status.idle": "2022-02-16T16:42:47.892800Z",
     "shell.execute_reply": "2022-02-16T16:42:47.893743Z",
     "shell.execute_reply.started": "2022-02-16T16:38:26.638852Z"
    },
    "papermill": {
     "duration": 0.479484,
     "end_time": "2022-02-16T16:42:47.894092",
     "exception": false,
     "start_time": "2022-02-16T16:42:47.414608",
     "status": "completed"
    },
    "tags": []
   },
   "outputs": [
    {
     "data": {
      "text/plain": [
       "LogisticRegression()"
      ]
     },
     "execution_count": 41,
     "metadata": {},
     "output_type": "execute_result"
    }
   ],
   "source": [
    "model.fit(X_train, Y_train)"
   ]
  },
  {
   "cell_type": "code",
   "execution_count": 42,
   "id": "866b65d8",
   "metadata": {
    "execution": {
     "iopub.execute_input": "2022-02-16T16:42:48.083358Z",
     "iopub.status.busy": "2022-02-16T16:42:48.080970Z",
     "iopub.status.idle": "2022-02-16T16:42:48.087308Z",
     "shell.execute_reply": "2022-02-16T16:42:48.087876Z",
     "shell.execute_reply.started": "2022-02-16T16:38:27.435310Z"
    },
    "papermill": {
     "duration": 0.064969,
     "end_time": "2022-02-16T16:42:48.088076",
     "exception": false,
     "start_time": "2022-02-16T16:42:48.023107",
     "status": "completed"
    },
    "tags": []
   },
   "outputs": [],
   "source": [
    "# accuracy score on the training data\n",
    "X_train_prediction = model.predict(X_train)\n",
    "training_data_accuracy = accuracy_score(X_train_prediction, Y_train)"
   ]
  },
  {
   "cell_type": "code",
   "execution_count": 43,
   "id": "4f813568",
   "metadata": {
    "execution": {
     "iopub.execute_input": "2022-02-16T16:42:48.201896Z",
     "iopub.status.busy": "2022-02-16T16:42:48.200599Z",
     "iopub.status.idle": "2022-02-16T16:42:48.205918Z",
     "shell.execute_reply": "2022-02-16T16:42:48.206564Z",
     "shell.execute_reply.started": "2022-02-16T16:38:27.463680Z"
    },
    "papermill": {
     "duration": 0.063837,
     "end_time": "2022-02-16T16:42:48.206748",
     "exception": false,
     "start_time": "2022-02-16T16:42:48.142911",
     "status": "completed"
    },
    "tags": []
   },
   "outputs": [
    {
     "name": "stdout",
     "output_type": "stream",
     "text": [
      "Accuracy score of the training data :  0.9865985576923076\n"
     ]
    }
   ],
   "source": [
    "print('Accuracy score of the training data : ', training_data_accuracy)"
   ]
  },
  {
   "cell_type": "code",
   "execution_count": 44,
   "id": "018c40c7",
   "metadata": {
    "execution": {
     "iopub.execute_input": "2022-02-16T16:42:48.322169Z",
     "iopub.status.busy": "2022-02-16T16:42:48.321506Z",
     "iopub.status.idle": "2022-02-16T16:42:48.325747Z",
     "shell.execute_reply": "2022-02-16T16:42:48.326236Z",
     "shell.execute_reply.started": "2022-02-16T16:38:27.487449Z"
    },
    "papermill": {
     "duration": 0.063965,
     "end_time": "2022-02-16T16:42:48.326433",
     "exception": false,
     "start_time": "2022-02-16T16:42:48.262468",
     "status": "completed"
    },
    "tags": []
   },
   "outputs": [],
   "source": [
    "# accuracy score on the test data\n",
    "X_test_prediction = model.predict(X_test)\n",
    "test_data_accuracy = accuracy_score(X_test_prediction, Y_test)"
   ]
  },
  {
   "cell_type": "code",
   "execution_count": 45,
   "id": "36d230d4",
   "metadata": {
    "execution": {
     "iopub.execute_input": "2022-02-16T16:42:48.441619Z",
     "iopub.status.busy": "2022-02-16T16:42:48.439693Z",
     "iopub.status.idle": "2022-02-16T16:42:48.446797Z",
     "shell.execute_reply": "2022-02-16T16:42:48.445982Z",
     "shell.execute_reply.started": "2022-02-16T16:38:27.526302Z"
    },
    "papermill": {
     "duration": 0.064997,
     "end_time": "2022-02-16T16:42:48.446999",
     "exception": false,
     "start_time": "2022-02-16T16:42:48.382002",
     "status": "completed"
    },
    "tags": []
   },
   "outputs": [
    {
     "name": "stdout",
     "output_type": "stream",
     "text": [
      "Accuracy score of the test data :  0.9790865384615385\n"
     ]
    }
   ],
   "source": [
    "print('Accuracy score of the test data : ', test_data_accuracy)"
   ]
  },
  {
   "cell_type": "markdown",
   "id": "730400be",
   "metadata": {
    "papermill": {
     "duration": 0.05369,
     "end_time": "2022-02-16T16:42:48.558558",
     "exception": false,
     "start_time": "2022-02-16T16:42:48.504868",
     "status": "completed"
    },
    "tags": []
   },
   "source": [
    "**CONFUSION MATRIX:**\n",
    "\n",
    "* The confusion matrix is a 2 dimensional array comparing predicted category labels to the true label. \n",
    "\n"
   ]
  },
  {
   "cell_type": "code",
   "execution_count": 46,
   "id": "dcc5f8bc",
   "metadata": {
    "execution": {
     "iopub.execute_input": "2022-02-16T16:42:48.671170Z",
     "iopub.status.busy": "2022-02-16T16:42:48.670248Z",
     "iopub.status.idle": "2022-02-16T16:42:48.679431Z",
     "shell.execute_reply": "2022-02-16T16:42:48.679999Z",
     "shell.execute_reply.started": "2022-02-16T16:38:27.537699Z"
    },
    "papermill": {
     "duration": 0.06699,
     "end_time": "2022-02-16T16:42:48.680156",
     "exception": false,
     "start_time": "2022-02-16T16:42:48.613166",
     "status": "completed"
    },
    "tags": []
   },
   "outputs": [],
   "source": [
    "import matplotlib.pyplot as plt\n",
    "\n",
    "def plot_confusion_matrix(cm, classes,\n",
    "                          normalize=False,\n",
    "                          title='Confusion matrix',\n",
    "                          cmap=plt.cm.Purples):\n",
    "    plt.imshow(cm, interpolation='nearest', cmap=cmap)\n",
    "    plt.title(title)\n",
    "    plt.colorbar()\n",
    "    tick_marks = np.arange(len(classes))\n",
    "    plt.xticks(tick_marks, classes, rotation=45)\n",
    "    plt.yticks(tick_marks, classes)\n",
    "\n",
    "    if normalize:\n",
    "        cm = cm.astype('float') / cm.sum(axis=1)[:, np.newaxis]\n",
    "        print(\"Normalized confusion matrix\")\n",
    "    else:\n",
    "        print('Confusion matrix, without normalization')\n",
    "\n",
    "    thresh = cm.max() / 2.\n",
    "    for i, j in itertools.product(range(cm.shape[0]), range(cm.shape[1])):\n",
    "        plt.text(j, i, cm[i, j],\n",
    "                 horizontalalignment=\"center\",\n",
    "                 color=\"white\" if cm[i, j] > thresh else \"black\")\n",
    "\n",
    "    plt.tight_layout()\n",
    "    plt.ylabel('True label')\n",
    "    plt.xlabel('Predicted label')\n",
    "\n",
    "\n",
    "        \n",
    "\n",
    "    \n",
    "    "
   ]
  },
  {
   "cell_type": "code",
   "execution_count": 47,
   "id": "1338dcae",
   "metadata": {
    "execution": {
     "iopub.execute_input": "2022-02-16T16:42:48.791747Z",
     "iopub.status.busy": "2022-02-16T16:42:48.790837Z",
     "iopub.status.idle": "2022-02-16T16:42:48.799240Z",
     "shell.execute_reply": "2022-02-16T16:42:48.799811Z",
     "shell.execute_reply.started": "2022-02-16T16:38:27.550511Z"
    },
    "papermill": {
     "duration": 0.065824,
     "end_time": "2022-02-16T16:42:48.799976",
     "exception": false,
     "start_time": "2022-02-16T16:42:48.734152",
     "status": "completed"
    },
    "tags": []
   },
   "outputs": [],
   "source": [
    "X1_train, X1_test, Y1_train, Y1_test = train_test_split(X, Y, test_size=0.33, random_state=42)"
   ]
  },
  {
   "cell_type": "markdown",
   "id": "3a8853ba",
   "metadata": {
    "papermill": {
     "duration": 0.053783,
     "end_time": "2022-02-16T16:42:48.907991",
     "exception": false,
     "start_time": "2022-02-16T16:42:48.854208",
     "status": "completed"
    },
    "tags": []
   },
   "source": [
    "**CLASSIFICATION MODEL : MULTINOMIAL NAIVE BAYES**\n",
    "\n",
    "* Multinomial Naive Bayes algorithm is a probabilistic learning method that is mostly used in Natural Language Processing (NLP)\n",
    "\n",
    "* Multinomial Naïve Bayes uses term frequency i.e. the number of times a given term appears in a document. Term frequency is often normalized by dividing the raw term frequency by the document length\n"
   ]
  },
  {
   "cell_type": "code",
   "execution_count": 48,
   "id": "d4df3126",
   "metadata": {
    "execution": {
     "iopub.execute_input": "2022-02-16T16:42:49.020060Z",
     "iopub.status.busy": "2022-02-16T16:42:49.019137Z",
     "iopub.status.idle": "2022-02-16T16:42:49.027566Z",
     "shell.execute_reply": "2022-02-16T16:42:49.027003Z",
     "shell.execute_reply.started": "2022-02-16T16:38:27.573556Z"
    },
    "papermill": {
     "duration": 0.065506,
     "end_time": "2022-02-16T16:42:49.027711",
     "exception": false,
     "start_time": "2022-02-16T16:42:48.962205",
     "status": "completed"
    },
    "tags": []
   },
   "outputs": [],
   "source": [
    "#let's implement the model : Multinomial Naive Bayes\n",
    "from sklearn.naive_bayes import MultinomialNB\n",
    "classifier=MultinomialNB()"
   ]
  },
  {
   "cell_type": "code",
   "execution_count": 49,
   "id": "de3a2414",
   "metadata": {
    "execution": {
     "iopub.execute_input": "2022-02-16T16:42:49.145001Z",
     "iopub.status.busy": "2022-02-16T16:42:49.144056Z",
     "iopub.status.idle": "2022-02-16T16:42:49.404142Z",
     "shell.execute_reply": "2022-02-16T16:42:49.403518Z",
     "shell.execute_reply.started": "2022-02-16T16:38:27.738764Z"
    },
    "papermill": {
     "duration": 0.321533,
     "end_time": "2022-02-16T16:42:49.404278",
     "exception": false,
     "start_time": "2022-02-16T16:42:49.082745",
     "status": "completed"
    },
    "tags": []
   },
   "outputs": [
    {
     "name": "stdout",
     "output_type": "stream",
     "text": [
      "accuracy:   0.950\n",
      "Confusion matrix, without normalization\n"
     ]
    },
    {
     "data": {
      "image/png": "[encoded data removed]",
      "text/plain": [
       "<Figure size 432x288 with 2 Axes>"
      ]
     },
     "metadata": {
      "needs_background": "light"
     },
     "output_type": "display_data"
    }
   ],
   "source": [
    "from sklearn import metrics\n",
    "import numpy as np\n",
    "import itertools\n",
    "\n",
    "classifier.fit(X1_train, Y1_train)\n",
    "prediction1 = classifier.predict(X1_test)\n",
    "score = metrics.accuracy_score(Y1_test, prediction1)\n",
    "print(\"accuracy:   %0.3f\" % score)\n",
    "cm1 = metrics.confusion_matrix(Y1_test, prediction1)\n",
    "plot_confusion_matrix(cm1, classes=['FAKE', 'REAL'])"
   ]
  },
  {
   "cell_type": "markdown",
   "id": "2f255f57",
   "metadata": {
    "papermill": {
     "duration": 0.056053,
     "end_time": "2022-02-16T16:42:49.516553",
     "exception": false,
     "start_time": "2022-02-16T16:42:49.460500",
     "status": "completed"
    },
    "tags": []
   },
   "source": [
    "**CLASSIFICATION MODEL : PASSIVE AGGRESSIVE CLASSIFIER**\n",
    "\n",
    "* Passive Aggressive Classifier works by responding as passive for correct classifications and responding as aggressive for any miscalculation."
   ]
  },
  {
   "cell_type": "code",
   "execution_count": 50,
   "id": "7bb70d8c",
   "metadata": {
    "execution": {
     "iopub.execute_input": "2022-02-16T16:42:49.635456Z",
     "iopub.status.busy": "2022-02-16T16:42:49.634759Z",
     "iopub.status.idle": "2022-02-16T16:42:49.640985Z",
     "shell.execute_reply": "2022-02-16T16:42:49.641624Z",
     "shell.execute_reply.started": "2022-02-16T16:38:28.063622Z"
    },
    "papermill": {
     "duration": 0.069266,
     "end_time": "2022-02-16T16:42:49.641788",
     "exception": false,
     "start_time": "2022-02-16T16:42:49.572522",
     "status": "completed"
    },
    "tags": []
   },
   "outputs": [],
   "source": [
    "X2_train, X2_test, Y2_train, Y2_test = train_test_split(X, Y, test_size=0.33, random_state=42)"
   ]
  },
  {
   "cell_type": "code",
   "execution_count": 51,
   "id": "1e89684c",
   "metadata": {
    "execution": {
     "iopub.execute_input": "2022-02-16T16:42:49.758528Z",
     "iopub.status.busy": "2022-02-16T16:42:49.757576Z",
     "iopub.status.idle": "2022-02-16T16:42:50.043272Z",
     "shell.execute_reply": "2022-02-16T16:42:50.042708Z",
     "shell.execute_reply.started": "2022-02-16T16:38:28.075269Z"
    },
    "papermill": {
     "duration": 0.345353,
     "end_time": "2022-02-16T16:42:50.043449",
     "exception": false,
     "start_time": "2022-02-16T16:42:49.698096",
     "status": "completed"
    },
    "tags": []
   },
   "outputs": [
    {
     "name": "stdout",
     "output_type": "stream",
     "text": [
      "accuracy:   0.990\n",
      "Confusion matrix, without normalization\n"
     ]
    },
    {
     "data": {
      "image/png": "[encoded data removed]",
      "text/plain": [
       "<Figure size 432x288 with 2 Axes>"
      ]
     },
     "metadata": {
      "needs_background": "light"
     },
     "output_type": "display_data"
    }
   ],
   "source": [
    "#lets implemet the algorithm : Passive Aggressive Classifier\n",
    "from sklearn.linear_model import PassiveAggressiveClassifier\n",
    "linear_clf = PassiveAggressiveClassifier(max_iter=50)\n",
    "\n",
    "linear_clf.fit(X2_train, Y2_train)\n",
    "prediction2 = linear_clf.predict(X2_test)\n",
    "score = metrics.accuracy_score(Y2_test, prediction2)\n",
    "print(\"accuracy:   %0.3f\" % score)\n",
    "cm2 = metrics.confusion_matrix(Y2_test, prediction2)\n",
    "plot_confusion_matrix(cm2, classes=['FAKE Data', 'REAL Data'])"
   ]
  },
  {
   "cell_type": "markdown",
   "id": "4f1d52af",
   "metadata": {
    "papermill": {
     "duration": 0.058039,
     "end_time": "2022-02-16T16:42:50.159817",
     "exception": false,
     "start_time": "2022-02-16T16:42:50.101778",
     "status": "completed"
    },
    "tags": []
   },
   "source": [
    "**BUILDING A PREDICTIVE SYSTEM:**"
   ]
  },
  {
   "cell_type": "markdown",
   "id": "3d559dd7",
   "metadata": {
    "papermill": {
     "duration": 0.059362,
     "end_time": "2022-02-16T16:42:50.277595",
     "exception": false,
     "start_time": "2022-02-16T16:42:50.218233",
     "status": "completed"
    },
    "tags": []
   },
   "source": [
    "Building a predictive system inorder to find that the inital word in the dataset is real or fake using LogisticRegression model: "
   ]
  },
  {
   "cell_type": "code",
   "execution_count": 52,
   "id": "1102eb77",
   "metadata": {
    "execution": {
     "iopub.execute_input": "2022-02-16T16:42:50.399685Z",
     "iopub.status.busy": "2022-02-16T16:42:50.399013Z",
     "iopub.status.idle": "2022-02-16T16:42:50.401547Z",
     "shell.execute_reply": "2022-02-16T16:42:50.402034Z",
     "shell.execute_reply.started": "2022-02-16T16:38:28.428693Z"
    },
    "papermill": {
     "duration": 0.067116,
     "end_time": "2022-02-16T16:42:50.402210",
     "exception": false,
     "start_time": "2022-02-16T16:42:50.335094",
     "status": "completed"
    },
    "tags": []
   },
   "outputs": [
    {
     "name": "stdout",
     "output_type": "stream",
     "text": [
      "[1]\n",
      "The news is Fake\n"
     ]
    }
   ],
   "source": [
    "X_new = X_test[0]\n",
    "\n",
    "prediction = model.predict(X_new)\n",
    "print(prediction)\n",
    "\n",
    "if (prediction[0]==0):\n",
    "  print('The news is Real')\n",
    "else:\n",
    "  print('The news is Fake')"
   ]
  },
  {
   "cell_type": "code",
   "execution_count": 53,
   "id": "c6a24b22",
   "metadata": {
    "execution": {
     "iopub.execute_input": "2022-02-16T16:42:50.524603Z",
     "iopub.status.busy": "2022-02-16T16:42:50.523980Z",
     "iopub.status.idle": "2022-02-16T16:42:50.527643Z",
     "shell.execute_reply": "2022-02-16T16:42:50.527057Z",
     "shell.execute_reply.started": "2022-02-16T16:38:28.437267Z"
    },
    "papermill": {
     "duration": 0.067583,
     "end_time": "2022-02-16T16:42:50.527800",
     "exception": false,
     "start_time": "2022-02-16T16:42:50.460217",
     "status": "completed"
    },
    "tags": []
   },
   "outputs": [
    {
     "name": "stdout",
     "output_type": "stream",
     "text": [
      "1\n"
     ]
    }
   ],
   "source": [
    "print(Y_test[0])"
   ]
  },
  {
   "cell_type": "markdown",
   "id": "bbf67f58",
   "metadata": {
    "papermill": {
     "duration": 0.05797,
     "end_time": "2022-02-16T16:42:50.644500",
     "exception": false,
     "start_time": "2022-02-16T16:42:50.586530",
     "status": "completed"
    },
    "tags": []
   },
   "source": [
    "Building a predictive system inorder to find that the inital word in the dataset is real or fake using Multinomial Naive Bayes model: "
   ]
  },
  {
   "cell_type": "code",
   "execution_count": 54,
   "id": "b86aeb46",
   "metadata": {
    "execution": {
     "iopub.execute_input": "2022-02-16T16:42:50.770178Z",
     "iopub.status.busy": "2022-02-16T16:42:50.769523Z",
     "iopub.status.idle": "2022-02-16T16:42:50.773606Z",
     "shell.execute_reply": "2022-02-16T16:42:50.773078Z",
     "shell.execute_reply.started": "2022-02-16T16:38:28.447749Z"
    },
    "papermill": {
     "duration": 0.069909,
     "end_time": "2022-02-16T16:42:50.773747",
     "exception": false,
     "start_time": "2022-02-16T16:42:50.703838",
     "status": "completed"
    },
    "tags": []
   },
   "outputs": [
    {
     "name": "stdout",
     "output_type": "stream",
     "text": [
      "[1]\n",
      "The news is Fake\n"
     ]
    }
   ],
   "source": [
    "X1_new = X1_test[0]\n",
    "\n",
    "prediction = model.predict(X1_new)\n",
    "print(prediction)\n",
    "\n",
    "if (prediction[0]==0):\n",
    "  print('The news is Real')\n",
    "else:\n",
    "  print('The news is Fake')"
   ]
  },
  {
   "cell_type": "code",
   "execution_count": 55,
   "id": "ba10717c",
   "metadata": {
    "execution": {
     "iopub.execute_input": "2022-02-16T16:42:50.896209Z",
     "iopub.status.busy": "2022-02-16T16:42:50.895557Z",
     "iopub.status.idle": "2022-02-16T16:42:50.898596Z",
     "shell.execute_reply": "2022-02-16T16:42:50.898086Z",
     "shell.execute_reply.started": "2022-02-16T16:38:28.461272Z"
    },
    "papermill": {
     "duration": 0.065829,
     "end_time": "2022-02-16T16:42:50.898751",
     "exception": false,
     "start_time": "2022-02-16T16:42:50.832922",
     "status": "completed"
    },
    "tags": []
   },
   "outputs": [
    {
     "name": "stdout",
     "output_type": "stream",
     "text": [
      "1\n"
     ]
    }
   ],
   "source": [
    "print(Y1_test[0])"
   ]
  },
  {
   "cell_type": "markdown",
   "id": "099a9e7e",
   "metadata": {
    "papermill": {
     "duration": 0.058348,
     "end_time": "2022-02-16T16:42:51.018189",
     "exception": false,
     "start_time": "2022-02-16T16:42:50.959841",
     "status": "completed"
    },
    "tags": []
   },
   "source": [
    "Building a predictive system inorder to find that the inital word in the dataset is real or fake using Passive Aggressive Classifier: "
   ]
  },
  {
   "cell_type": "code",
   "execution_count": 56,
   "id": "3813b0fc",
   "metadata": {
    "execution": {
     "iopub.execute_input": "2022-02-16T16:42:51.142866Z",
     "iopub.status.busy": "2022-02-16T16:42:51.142191Z",
     "iopub.status.idle": "2022-02-16T16:42:51.145928Z",
     "shell.execute_reply": "2022-02-16T16:42:51.145374Z",
     "shell.execute_reply.started": "2022-02-16T16:38:28.469657Z"
    },
    "papermill": {
     "duration": 0.068706,
     "end_time": "2022-02-16T16:42:51.146071",
     "exception": false,
     "start_time": "2022-02-16T16:42:51.077365",
     "status": "completed"
    },
    "tags": []
   },
   "outputs": [
    {
     "name": "stdout",
     "output_type": "stream",
     "text": [
      "[1]\n",
      "The news is Fake\n"
     ]
    }
   ],
   "source": [
    "X2_new = X2_test[0]\n",
    "\n",
    "prediction = model.predict(X2_new)\n",
    "print(prediction)\n",
    "\n",
    "if (prediction[0]==0):\n",
    "  print('The news is Real')\n",
    "else:\n",
    "  print('The news is Fake')"
   ]
  },
  {
   "cell_type": "code",
   "execution_count": 57,
   "id": "05f7a3ca",
   "metadata": {
    "execution": {
     "iopub.execute_input": "2022-02-16T16:42:51.269001Z",
     "iopub.status.busy": "2022-02-16T16:42:51.268344Z",
     "iopub.status.idle": "2022-02-16T16:42:51.271076Z",
     "shell.execute_reply": "2022-02-16T16:42:51.272125Z",
     "shell.execute_reply.started": "2022-02-16T16:38:28.482371Z"
    },
    "papermill": {
     "duration": 0.066871,
     "end_time": "2022-02-16T16:42:51.272345",
     "exception": false,
     "start_time": "2022-02-16T16:42:51.205474",
     "status": "completed"
    },
    "tags": []
   },
   "outputs": [
    {
     "name": "stdout",
     "output_type": "stream",
     "text": [
      "1\n"
     ]
    }
   ],
   "source": [
    "print(Y2_test[0])"
   ]
  },
  {
   "cell_type": "markdown",
   "id": "95a0c987",
   "metadata": {
    "papermill": {
     "duration": 0.058635,
     "end_time": "2022-02-16T16:42:51.390284",
     "exception": false,
     "start_time": "2022-02-16T16:42:51.331649",
     "status": "completed"
    },
    "tags": []
   },
   "source": [
    "**CLASSIFICATION REPORT:**\n",
    "\n",
    "* A Classification report is used to measure the quality of predictions from a classification algorithm.\n",
    "\n",
    "* It is used to show the precision, recall, F1 Score, and support of your trained classification model."
   ]
  },
  {
   "cell_type": "markdown",
   "id": "f0366c77",
   "metadata": {
    "papermill": {
     "duration": 0.058672,
     "end_time": "2022-02-16T16:42:51.508188",
     "exception": false,
     "start_time": "2022-02-16T16:42:51.449516",
     "status": "completed"
    },
    "tags": []
   },
   "source": [
    "Classification report for logistic regression model:"
   ]
  },
  {
   "cell_type": "code",
   "execution_count": 58,
   "id": "aff9c16c",
   "metadata": {
    "execution": {
     "iopub.execute_input": "2022-02-16T16:42:51.631728Z",
     "iopub.status.busy": "2022-02-16T16:42:51.631084Z",
     "iopub.status.idle": "2022-02-16T16:42:51.645052Z",
     "shell.execute_reply": "2022-02-16T16:42:51.644403Z",
     "shell.execute_reply.started": "2022-02-16T16:38:28.490593Z"
    },
    "papermill": {
     "duration": 0.078117,
     "end_time": "2022-02-16T16:42:51.645203",
     "exception": false,
     "start_time": "2022-02-16T16:42:51.567086",
     "status": "completed"
    },
    "tags": []
   },
   "outputs": [
    {
     "name": "stdout",
     "output_type": "stream",
     "text": [
      "              precision    recall  f1-score   support\n",
      "\n",
      "           0       0.99      0.96      0.98      2077\n",
      "           1       0.97      0.99      0.98      2083\n",
      "\n",
      "    accuracy                           0.98      4160\n",
      "   macro avg       0.98      0.98      0.98      4160\n",
      "weighted avg       0.98      0.98      0.98      4160\n",
      "\n"
     ]
    }
   ],
   "source": [
    "from sklearn.metrics import classification_report\n",
    "print(classification_report(Y_test, X_test_prediction))"
   ]
  },
  {
   "cell_type": "code",
   "execution_count": 59,
   "id": "5addb588",
   "metadata": {
    "execution": {
     "iopub.execute_input": "2022-02-16T16:42:51.770802Z",
     "iopub.status.busy": "2022-02-16T16:42:51.766916Z",
     "iopub.status.idle": "2022-02-16T16:42:51.788253Z",
     "shell.execute_reply": "2022-02-16T16:42:51.787406Z",
     "shell.execute_reply.started": "2022-02-16T16:38:28.514700Z"
    },
    "papermill": {
     "duration": 0.084504,
     "end_time": "2022-02-16T16:42:51.788707",
     "exception": false,
     "start_time": "2022-02-16T16:42:51.704203",
     "status": "completed"
    },
    "tags": []
   },
   "outputs": [
    {
     "name": "stdout",
     "output_type": "stream",
     "text": [
      "              precision    recall  f1-score   support\n",
      "\n",
      "           0       0.91      1.00      0.95      3449\n",
      "           1       0.99      0.90      0.95      3415\n",
      "\n",
      "    accuracy                           0.95      6864\n",
      "   macro avg       0.95      0.95      0.95      6864\n",
      "weighted avg       0.95      0.95      0.95      6864\n",
      "\n"
     ]
    }
   ],
   "source": [
    "from sklearn.metrics import classification_report\n",
    "print(classification_report(Y1_test,prediction1))"
   ]
  },
  {
   "cell_type": "code",
   "execution_count": 60,
   "id": "8ba21e27",
   "metadata": {
    "execution": {
     "iopub.execute_input": "2022-02-16T16:42:51.918078Z",
     "iopub.status.busy": "2022-02-16T16:42:51.916702Z",
     "iopub.status.idle": "2022-02-16T16:42:51.932835Z",
     "shell.execute_reply": "2022-02-16T16:42:51.933657Z",
     "shell.execute_reply.started": "2022-02-16T16:38:28.537107Z"
    },
    "papermill": {
     "duration": 0.08322,
     "end_time": "2022-02-16T16:42:51.933889",
     "exception": false,
     "start_time": "2022-02-16T16:42:51.850669",
     "status": "completed"
    },
    "tags": []
   },
   "outputs": [
    {
     "name": "stdout",
     "output_type": "stream",
     "text": [
      "              precision    recall  f1-score   support\n",
      "\n",
      "           0       0.99      0.99      0.99      3449\n",
      "           1       0.99      0.99      0.99      3415\n",
      "\n",
      "    accuracy                           0.99      6864\n",
      "   macro avg       0.99      0.99      0.99      6864\n",
      "weighted avg       0.99      0.99      0.99      6864\n",
      "\n"
     ]
    }
   ],
   "source": [
    "from sklearn.metrics import classification_report\n",
    "print(classification_report(Y2_test,prediction2))"
   ]
  },
  {
   "cell_type": "markdown",
   "id": "94b1012d",
   "metadata": {
    "papermill": {
     "duration": 0.060878,
     "end_time": "2022-02-16T16:42:52.056122",
     "exception": false,
     "start_time": "2022-02-16T16:42:51.995244",
     "status": "completed"
    },
    "tags": []
   },
   "source": [
    "**MODEL COMPARISON**\n",
    "\n",
    "Hence, in this dataset we can observe that\n",
    "\n",
    "* Logistic Regression : Accuracy is 0.98\n",
    "\n",
    "* Multinomial Naive Bayes : Accuracy is 0.95\n",
    "\n",
    "* Passive Aggressive Classifier : Accuracy is 0.99"
   ]
  }
 ],
 "metadata": {
  "kernelspec": {
   "display_name": "Python 3",
   "language": "python",
   "name": "python3"
  },
  "language_info": {
   "codemirror_mode": {
    "name": "ipython",
    "version": 3
   },
   "file_extension": ".py",
   "mimetype": "text/x-python",
   "name": "python",
   "nbconvert_exporter": "python",
   "pygments_lexer": "ipython3",
   "version": "3.10.2"
  },
  "papermill": {
   "default_parameters": {},
   "duration": 71.828853,
   "end_time": "2022-02-16T16:42:53.181224",
   "environment_variables": {},
   "exception": null,
   "input_path": "__notebook__.ipynb",
   "output_path": "__notebook__.ipynb",
   "parameters": {},
   "start_time": "2022-02-16T16:41:41.352371",
   "version": "2.3.3"
  }
 },
 "nbformat": 4,
 "nbformat_minor": 5
}
